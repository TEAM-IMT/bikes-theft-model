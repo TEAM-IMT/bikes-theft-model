{
 "cells": [
  {
   "cell_type": "code",
   "execution_count": null,
   "metadata": {
    "colab": {
     "base_uri": "https://localhost:8080/"
    },
    "executionInfo": {
     "elapsed": 789,
     "status": "ok",
     "timestamp": 1605550609795,
     "user": {
      "displayName": "diego carreño",
      "photoUrl": "",
      "userId": "04170820117994049109"
     },
     "user_tz": -60
    },
    "id": "BTHQn2f59QXU",
    "outputId": "e73bc7be-ac82-42ee-9e6b-86635d99fe33"
   },
   "outputs": [
    {
     "name": "stdout",
     "output_type": "stream",
     "text": [
      "Drive already mounted at /content/gdrive/; to attempt to forcibly remount, call drive.mount(\"/content/gdrive/\", force_remount=True).\n",
      "/content/gdrive/My Drive/Colab Notebooks/bikes-theft-model\n"
     ]
    }
   ],
   "source": [
    "from google.colab import drive\n",
    "drive.mount(\"/content/gdrive/\")\n",
    "\n",
    "%cd \"/content/gdrive/My Drive/Colab Notebooks/bikes-theft-model\"\n",
    "\n",
    "# Libraries: Standard ones\n",
    "import pandas as pd\n",
    "import numpy as np\n",
    "import matplotlib.pyplot as plt\n",
    "import plotly.express as px\n",
    "import plotly.graph_objects as go\n",
    "from plotly.subplots import make_subplots\n",
    "import plotly.io as pio\n",
    "\n",
    "# Library for boxplots\n",
    "import seaborn as sns\n",
    "import pandas as pd\n",
    "\n",
    "#GRAPHS CLASS\n",
    "from Codigos.DataStatistics import GraphsStatistics as gp\n"
   ]
  },
  {
   "cell_type": "markdown",
   "metadata": {
    "id": "3Igii4cAYiGi"
   },
   "source": [
    "# **Data sets description**"
   ]
  },
  {
   "cell_type": "markdown",
   "metadata": {
    "id": "fRXuo8pUYseC"
   },
   "source": [
    "## **Thefts data sets**"
   ]
  },
  {
   "cell_type": "markdown",
   "metadata": {
    "id": "QoHpPY1Nagyi"
   },
   "source": [
    "INTRO"
   ]
  },
  {
   "cell_type": "markdown",
   "metadata": {
    "id": "jUXOp1gLZFVf"
   },
   "source": [
    "### **Toronto data set**\n",
    "\n",
    "This dataset contains Bicycle Thefts occurrences from **2014-2019** . The location of crime occurrences have been deliberately offset to the nearest road intersection node to protect the privacy of parties involved in the occurrence. All location data must be considered as an approximate location of the occurrence and users are advised not to interpret any of these locations as related to a specific address or individual, it has a total of 26 features. The data set can be found [here](https://https://data.torontopolice.on.ca/datasets/698717de582845458159a73ad4a2a8e0_0?geometry=-80.680%2C43.538%2C-78.066%2C43.885)"
   ]
  },
  {
   "cell_type": "markdown",
   "metadata": {
    "id": "ABL0S6n8Zyn_"
   },
   "source": [
    "<table style=\"undefined;table-layout: fixed; width: 726px\">\n",
    "<colgroup>\n",
    "<col style=\"width: 154px\">\n",
    "<col style=\"width: 375px\">\n",
    "<col style=\"width: 110px\">\n",
    "<col style=\"width: 87px\">\n",
    "</colgroup>\n",
    "<thead>\n",
    "  <tr>\n",
    "    <th>Field</th>\n",
    "    <th>Field Description</th>\n",
    "    <th>Variable Type</th>\n",
    "    <th>Num of Unique values</th>\n",
    "  </tr>\n",
    "</thead>\n",
    "<tbody>\n",
    "  <tr>\n",
    "    <td>X</td>\n",
    "    <td>Location in cartetian coordinates (X)</td>\n",
    "    <td>float</td>\n",
    "    <td>4885</td>\n",
    "  </tr>\n",
    "  <tr>\n",
    "    <td>Y</td>\n",
    "    <td>Location in cartetian coordinates (Y)</td>\n",
    "    <td>float</td>\n",
    "    <td>4874</td>\n",
    "  </tr>\n",
    "  <tr>\n",
    "    <td>FID</td>\n",
    "    <td>ID </td>\n",
    "    <td>int</td>\n",
    "    <td>21584</td>\n",
    "  </tr>\n",
    "  <tr>\n",
    "    <td>Index</td>\n",
    "    <td>Record Unique Identifier</td>\n",
    "    <td>int</td>\n",
    "    <td>21584</td>\n",
    "  </tr>\n",
    "  <tr>\n",
    "    <td>event_unique_id</td>\n",
    "    <td>Event Occurrence Identifier</td>\n",
    "    <td>String</td>\n",
    "    <td>19350</td>\n",
    "  </tr>\n",
    "  <tr>\n",
    "    <td>Primary_Offence</td>\n",
    "    <td>Offence related to the occurrence</td>\n",
    "    <td>String</td>\n",
    "    <td>65</td>\n",
    "  </tr>\n",
    "  <tr>\n",
    "    <td>Occurrence_Date</td>\n",
    "    <td>Date of occurrence</td>\n",
    "    <td>String</td>\n",
    "    <td>2104</td>\n",
    "  </tr>\n",
    "  <tr>\n",
    "    <td>Occurrence_Year</td>\n",
    "    <td>Occurrence year</td>\n",
    "    <td>int</td>\n",
    "    <td>6</td>\n",
    "  </tr>\n",
    "  <tr>\n",
    "    <td>Occurrence_Month</td>\n",
    "    <td>Occurrence Month</td>\n",
    "    <td>int</td>\n",
    "    <td>12</td>\n",
    "  </tr>\n",
    "  <tr>\n",
    "    <td>Occurrence_Day</td>\n",
    "    <td>Occurrence Day</td>\n",
    "    <td>int</td>\n",
    "    <td>31</td>\n",
    "  </tr>\n",
    "  <tr>\n",
    "    <td>Occurrence_Time</td>\n",
    "    <td>Occurrence Time</td>\n",
    "    <td>String</td>\n",
    "    <td>933</td>\n",
    "  </tr>\n",
    "  <tr>\n",
    "    <td>Division</td>\n",
    "    <td>Police Division where event occurred</td>\n",
    "    <td>int</td>\n",
    "    <td>18</td>\n",
    "  </tr>\n",
    "  <tr>\n",
    "    <td>City</td>\n",
    "    <td>City where event occurred</td>\n",
    "    <td>String</td>\n",
    "    <td>1</td>\n",
    "  </tr>\n",
    "  <tr>\n",
    "    <td>Location_Type</td>\n",
    "    <td>Location Type where event occurred</td>\n",
    "    <td>String</td>\n",
    "    <td>44</td>\n",
    "  </tr>\n",
    "  <tr>\n",
    "    <td>Premise_Type</td>\n",
    "    <td>Premise Type where event occurred</td>\n",
    "    <td>String</td>\n",
    "    <td>5</td>\n",
    "  </tr>\n",
    "  <tr>\n",
    "    <td>Bike_Make</td>\n",
    "    <td>Bicycle Make</td>\n",
    "    <td>String</td>\n",
    "    <td>725</td>\n",
    "  </tr>\n",
    "  <tr>\n",
    "    <td>Bike_Model</td>\n",
    "    <td>Bicycle Model</td>\n",
    "    <td>String</td>\n",
    "    <td>7008</td>\n",
    "  </tr>\n",
    "  <tr>\n",
    "    <td>Bike_Type</td>\n",
    "    <td>Bicycle Type</td>\n",
    "    <td>String</td>\n",
    "    <td>13</td>\n",
    "  </tr>\n",
    "  <tr>\n",
    "    <td>Bike_Speed</td>\n",
    "    <td>Bicycle Speed</td>\n",
    "    <td>int</td>\n",
    "    <td>62</td>\n",
    "  </tr>\n",
    "  <tr>\n",
    "    <td>Bike_Colour</td>\n",
    "    <td>Bicycle Colour</td>\n",
    "    <td>String</td>\n",
    "    <td>233</td>\n",
    "  </tr>\n",
    "  <tr>\n",
    "    <td>Cost_of_Bike</td>\n",
    "    <td>Cost of Bicycle</td>\n",
    "    <td>float</td>\n",
    "    <td>1458</td>\n",
    "  </tr>\n",
    "  <tr>\n",
    "    <td>Status</td>\n",
    "    <td>Status of event</td>\n",
    "    <td>String</td>\n",
    "    <td>3</td>\n",
    "  </tr>\n",
    "  <tr>\n",
    "    <td>Hood_ID</td>\n",
    "    <td>Neighbourhood Id</td>\n",
    "    <td>int</td>\n",
    "    <td>140</td>\n",
    "  </tr>\n",
    "  <tr>\n",
    "    <td>Neighbourhood</td>\n",
    "    <td>Neighbourhood name</td>\n",
    "    <td>String</td>\n",
    "    <td>140</td>\n",
    "  </tr>\n",
    "  <tr>\n",
    "    <td>Lat</td>\n",
    "    <td>Longitude of point extracted after offsetting X and &amp; Coordinates to&nbsp;&nbsp;&nbsp;nearest intersection node</td>\n",
    "    <td>float</td>\n",
    "    <td>4874</td>\n",
    "  </tr>\n",
    "  <tr>\n",
    "    <td>Long</td>\n",
    "    <td>Latitude of point extracted after offsetting X and &amp; Coordinates to&nbsp;&nbsp;&nbsp;nearest intersection node</td>\n",
    "    <td>float</td>\n",
    "    <td>4885</td>\n",
    "  </tr>\n",
    "</tbody>\n",
    "</table>"
   ]
  },
  {
   "cell_type": "markdown",
   "metadata": {
    "id": "8yEUWnHIZL6m"
   },
   "source": [
    "### **Ottawa data set**\n",
    "\n",
    "\n",
    "This dataset contains Bicycle Thefts occurrences from **2015-2019** . The location of crime occurrences have been deliberately offset to the nearest road intersection node to protect the privacy of parties involved in the occurrence. All location data must be considered as an approximate location of the occurrence and users are advised not to interpret any of these locations as related to a specific address or individual, it has a total of 19 features. The data set can be found [here](https://https://open.ottawa.ca/datasets/3620cc7a3b874557bb288d889a4d56c2_0?geometry=-78.421%2C45.008%2C-73.194%2C45.683)"
   ]
  },
  {
   "cell_type": "markdown",
   "metadata": {
    "id": "70y9E59Radhc"
   },
   "source": [
    "<table style=\"undefined;table-layout: fixed; width: 726px\">\n",
    "<colgroup>\n",
    "<col style=\"width: 154px\">\n",
    "<col style=\"width: 375px\">\n",
    "<col style=\"width: 110px\">\n",
    "<col style=\"width: 87px\">\n",
    "</colgroup>\n",
    "<thead>\n",
    "  <tr>\n",
    "    <th>Field</th>\n",
    "    <th>Field Description</th>\n",
    "    <th>Variable Type</th>\n",
    "    <th>Num of Unique values</th>\n",
    "  </tr>\n",
    "</thead>\n",
    "<tbody>\n",
    "  <tr>\n",
    "    <td>X</td>\n",
    "    <td>Location in cartetian coordinates (X)</td>\n",
    "    <td>float</td>\n",
    "    <td>4885</td>\n",
    "  </tr>\n",
    "  <tr>\n",
    "    <td>Y</td>\n",
    "    <td>Location in cartetian coordinates (Y)</td>\n",
    "    <td>float</td>\n",
    "    <td>4874</td>\n",
    "  </tr>\n",
    "  <tr>\n",
    "    <td>FID</td>\n",
    "    <td>ID </td>\n",
    "    <td>int</td>\n",
    "    <td>21584</td>\n",
    "  </tr>\n",
    "  <tr>\n",
    "    <td>Index</td>\n",
    "    <td>Record Unique Identifier</td>\n",
    "    <td>int</td>\n",
    "    <td>21584</td>\n",
    "  </tr>\n",
    "  <tr>\n",
    "    <td>event_unique_id</td>\n",
    "    <td>Event Occurrence Identifier</td>\n",
    "    <td>String</td>\n",
    "    <td>19350</td>\n",
    "  </tr>\n",
    "  <tr>\n",
    "    <td>Primary_Offence</td>\n",
    "    <td>Offence related to the occurrence</td>\n",
    "    <td>String</td>\n",
    "    <td>65</td>\n",
    "  </tr>\n",
    "  <tr>\n",
    "    <td>Occurrence_Date</td>\n",
    "    <td>Date of occurrence</td>\n",
    "    <td>String</td>\n",
    "    <td>2104</td>\n",
    "  </tr>\n",
    "  <tr>\n",
    "    <td>Occurrence_Year</td>\n",
    "    <td>Occurrence year</td>\n",
    "    <td>int</td>\n",
    "    <td>6</td>\n",
    "  </tr>\n",
    "  <tr>\n",
    "    <td>Occurrence_Month</td>\n",
    "    <td>Occurrence Month</td>\n",
    "    <td>int</td>\n",
    "    <td>12</td>\n",
    "  </tr>\n",
    "  <tr>\n",
    "    <td>Occurrence_Day</td>\n",
    "    <td>Occurrence Day</td>\n",
    "    <td>int</td>\n",
    "    <td>31</td>\n",
    "  </tr>\n",
    "  <tr>\n",
    "    <td>Occurrence_Time</td>\n",
    "    <td>Occurrence Time</td>\n",
    "    <td>String</td>\n",
    "    <td>933</td>\n",
    "  </tr>\n",
    "  <tr>\n",
    "    <td>Division</td>\n",
    "    <td>Police Division where event occurred</td>\n",
    "    <td>int</td>\n",
    "    <td>18</td>\n",
    "  </tr>\n",
    "  <tr>\n",
    "    <td>City</td>\n",
    "    <td>City where event occurred</td>\n",
    "    <td>String</td>\n",
    "    <td>1</td>\n",
    "  </tr>\n",
    "  <tr>\n",
    "    <td>Location_Type</td>\n",
    "    <td>Location Type where event occurred</td>\n",
    "    <td>String</td>\n",
    "    <td>44</td>\n",
    "  </tr>\n",
    "  <tr>\n",
    "    <td>Premise_Type</td>\n",
    "    <td>Premise Type where event occurred</td>\n",
    "    <td>String</td>\n",
    "    <td>5</td>\n",
    "  </tr>\n",
    "  <tr>\n",
    "    <td>Bike_Make</td>\n",
    "    <td>Bicycle Make</td>\n",
    "    <td>String</td>\n",
    "    <td>725</td>\n",
    "  </tr>\n",
    "  <tr>\n",
    "    <td>Bike_Model</td>\n",
    "    <td>Bicycle Model</td>\n",
    "    <td>String</td>\n",
    "    <td>7008</td>\n",
    "  </tr>\n",
    "  <tr>\n",
    "    <td>Bike_Type</td>\n",
    "    <td>Bicycle Type</td>\n",
    "    <td>String</td>\n",
    "    <td>13</td>\n",
    "  </tr>\n",
    "  <tr>\n",
    "    <td>Bike_Speed</td>\n",
    "    <td>Bicycle Speed</td>\n",
    "    <td>int</td>\n",
    "    <td>62</td>\n",
    "  </tr>\n",
    "  <tr>\n",
    "    <td>Bike_Colour</td>\n",
    "    <td>Bicycle Colour</td>\n",
    "    <td>String</td>\n",
    "    <td>233</td>\n",
    "  </tr>\n",
    "  <tr>\n",
    "    <td>Cost_of_Bike</td>\n",
    "    <td>Cost of Bicycle</td>\n",
    "    <td>float</td>\n",
    "    <td>1458</td>\n",
    "  </tr>\n",
    "  <tr>\n",
    "    <td>Status</td>\n",
    "    <td>Status of event</td>\n",
    "    <td>String</td>\n",
    "    <td>3</td>\n",
    "  </tr>\n",
    "  <tr>\n",
    "    <td>Hood_ID</td>\n",
    "    <td>Neighbourhood Id</td>\n",
    "    <td>int</td>\n",
    "    <td>140</td>\n",
    "  </tr>\n",
    "  <tr>\n",
    "    <td>Neighbourhood</td>\n",
    "    <td>Neighbourhood name</td>\n",
    "    <td>String</td>\n",
    "    <td>140</td>\n",
    "  </tr>\n",
    "  <tr>\n",
    "    <td>Lat</td>\n",
    "    <td>Longitude of point extracted after offsetting X and &amp; Coordinates to&nbsp;&nbsp;&nbsp;nearest intersection node</td>\n",
    "    <td>float</td>\n",
    "    <td>4874</td>\n",
    "  </tr>\n",
    "  <tr>\n",
    "    <td>Long</td>\n",
    "    <td>Latitude of point extracted after offsetting X and &amp; Coordinates to&nbsp;&nbsp;&nbsp;nearest intersection node</td>\n",
    "    <td>float</td>\n",
    "    <td>4885</td>\n",
    "  </tr>\n",
    "</tbody>\n",
    "</table>"
   ]
  },
  {
   "cell_type": "markdown",
   "metadata": {
    "id": "24HnX4tO9coE"
   },
   "source": [
    "## **Census data set**\n",
    "\n",
    "These 2016 Census data set provide statistical information about the population, age and sex, type of dwelling, families, households and marital status, language among other features. In general terms, the census information is segmented into different geographical units, such as: Census Metropolitan Areas (CMA), Census Division (CD), Census Branch (CSD), Census Area (CT) and Dissemination Area (DA).  For this study, the CT, which is a small and relatively stable area, will be taken as the geographic unit. Census areas usually have a population of 2,500 to 8,000 people. They are located in large urban centers that should have a central urban population of 50,000 or more. Data was obtained from  [[1]](https://https://www12.statcan.gc.ca/census-recensement/2016/dp-pd/index-eng.cfm) and  [[2]](https://https://censusmapper.ca/) \n",
    "\n",
    "The following is a statistical analysis for the **cities of Toronto and Ottawa**\n"
   ]
  },
  {
   "cell_type": "markdown",
   "metadata": {
    "id": "Ehwh8LCkPzSd"
   },
   "source": [
    "In the next table are shown the set of caracteristics for the population data set:"
   ]
  },
  {
   "cell_type": "markdown",
   "metadata": {
    "id": "c2RRpO9LPv1G"
   },
   "source": [
    "<table>\n",
    "<thead>\n",
    "  <tr>\n",
    "    <th>Field</th>\n",
    "    <th>Field description</th>\n",
    "    <th>Variable Type</th>\n",
    "    <th>Num of unique values</th>\n",
    "  </tr>\n",
    "</thead>\n",
    "<tbody>\n",
    "  <tr>\n",
    "    <td>GeoUID</td>\n",
    "    <td>Region id</td>\n",
    "    <td>float64</td>\n",
    "    <td>204</td>\n",
    "  </tr>\n",
    "  <tr>\n",
    "    <td>Type</td>\n",
    "    <td>Subdivision type (Census Track)</td>\n",
    "    <td>String</td>\n",
    "    <td>1</td>\n",
    "  </tr>\n",
    "  <tr>\n",
    "    <td>Region Name</td>\n",
    "    <td>Subdivision Name</td>\n",
    "    <td>String</td>\n",
    "    <td>4</td>\n",
    "  </tr>\n",
    "  <tr>\n",
    "    <td>Area (sq km)</td>\n",
    "    <td>Area in squer Kilimeters</td>\n",
    "    <td>float64</td>\n",
    "    <td>203</td>\n",
    "  </tr>\n",
    "  <tr>\n",
    "    <td>Dwellings</td>\n",
    "    <td>Number of houses</td>\n",
    "    <td>int64</td>\n",
    "    <td>196</td>\n",
    "  </tr>\n",
    "  <tr>\n",
    "    <td>Households</td>\n",
    "    <td>Number of people who live in the <br>house</td>\n",
    "    <td>int64</td>\n",
    "    <td>187</td>\n",
    "  </tr>\n",
    "  <tr>\n",
    "    <td>v_CA16_401: Population, 2016</td>\n",
    "    <td>Number of people in the region </td>\n",
    "    <td>int64</td>\n",
    "    <td>201</td>\n",
    "  </tr>\n",
    "  <tr>\n",
    "    <td>v_CA16_406: Population density per square kilometre</td>\n",
    "    <td>Population density per square <br>kilometre</td>\n",
    "    <td>float64</td>\n",
    "    <td>203</td>\n",
    "  </tr>\n",
    "  <tr>\n",
    "    <td>v_CA16_407: Land area in square kilometres</td>\n",
    "    <td>Land area in square kilometres</td>\n",
    "    <td>float64</td>\n",
    "    <td>167</td>\n",
    "  </tr>\n",
    "</tbody>\n",
    "</table>"
   ]
  },
  {
   "cell_type": "markdown",
   "metadata": {
    "id": "rtRUFsqaQAw2"
   },
   "source": [
    "In the next table are shown the set of caracteristics for the number of reported bikes data set:"
   ]
  },
  {
   "cell_type": "markdown",
   "metadata": {
    "id": "G__tIO67QHxp"
   },
   "source": [
    "<table>\n",
    "<thead>\n",
    "  <tr>\n",
    "    <th>Field</th>\n",
    "    <th>Field description</th>\n",
    "    <th>Variable Type</th>\n",
    "    <th>Num of unique values</th>\n",
    "  </tr>\n",
    "</thead>\n",
    "<tbody>\n",
    "  <tr>\n",
    "    <td>GeoUID</td>\n",
    "    <td>ID of subdivision</td>\n",
    "    <td>float64</td>\n",
    "    <td>204</td>\n",
    "  </tr>\n",
    "  <tr>\n",
    "    <td>Type</td>\n",
    "    <td>Subdivision type <br>(Census Track)</td>\n",
    "    <td>object</td>\n",
    "    <td>1</td>\n",
    "  </tr>\n",
    "  <tr>\n",
    "    <td>Region Name</td>\n",
    "    <td>Region Name</td>\n",
    "    <td>object</td>\n",
    "    <td>4</td>\n",
    "  </tr>\n",
    "  <tr>\n",
    "    <td>Area (sq km)</td>\n",
    "    <td>Region area</td>\n",
    "    <td>float64</td>\n",
    "    <td>203</td>\n",
    "  </tr>\n",
    "  <tr>\n",
    "    <td>Population</td>\n",
    "    <td>Population number</td>\n",
    "    <td>int64</td>\n",
    "    <td>201</td>\n",
    "  </tr>\n",
    "  <tr>\n",
    "    <td>Dwellings</td>\n",
    "    <td>House number</td>\n",
    "    <td>int64</td>\n",
    "    <td>196</td>\n",
    "  </tr>\n",
    "  <tr>\n",
    "    <td>Households</td>\n",
    "    <td>Person number</td>\n",
    "    <td>int64</td>\n",
    "    <td>187</td>\n",
    "  </tr>\n",
    "  <tr>\n",
    "    <td>v_CA16_5809: Bicycle</td>\n",
    "    <td>Number of bycicle reported<br>by women</td>\n",
    "    <td>object</td>\n",
    "    <td>24</td>\n",
    "  </tr>\n",
    "  <tr>\n",
    "    <td>v_CA16_5808: Bicycle</td>\n",
    "    <td>Number of bycicle reported<br>by men</td>\n",
    "    <td>object</td>\n",
    "    <td>32</td>\n",
    "  </tr>\n",
    "  <tr>\n",
    "    <td>v_CA16_5807: Bicycle</td>\n",
    "    <td>Total number of bycicle</td>\n",
    "    <td>object</td>\n",
    "    <td>45</td>\n",
    "  </tr>\n",
    "</tbody>\n",
    "</table>"
   ]
  },
  {
   "cell_type": "markdown",
   "metadata": {
    "id": "tEFMUJUTb9pp"
   },
   "source": [
    "#**Data joint construction**\n",
    "\n",
    "In order to make a comparison between the thefts carried out between the cities of *Ottawa* and *Toronto*, a new data set is created, which aims to summarize the information of population, number of bicycles reported (by area $Km^{2}$) and number of stolen bicycles data given certain location.\n",
    "\n"
   ]
  },
  {
   "cell_type": "markdown",
   "metadata": {
    "id": "LStZZDiKRdMz"
   },
   "source": [
    "To carry out the analysis by region in each city, the census track (CT) is taken as a subdivision. First the population and bicycle data sets are imported for each city."
   ]
  },
  {
   "cell_type": "code",
   "execution_count": null,
   "metadata": {
    "colab": {
     "base_uri": "https://localhost:8080/",
     "height": 472
    },
    "executionInfo": {
     "elapsed": 1883,
     "status": "error",
     "timestamp": 1605550610917,
     "user": {
      "displayName": "diego carreño",
      "photoUrl": "",
      "userId": "04170820117994049109"
     },
     "user_tz": -60
    },
    "id": "UvCURaCdtuoy",
    "outputId": "4011ff97-9a47-4d6f-b0a9-f03f40ea9a15"
   },
   "outputs": [
    {
     "ename": "FileNotFoundError",
     "evalue": "ignored",
     "output_type": "error",
     "traceback": [
      "\u001b[0;31m---------------------------------------------------------------------------\u001b[0m",
      "\u001b[0;31mFileNotFoundError\u001b[0m                         Traceback (most recent call last)",
      "\u001b[0;32m<ipython-input-4-c0590d26b2c3>\u001b[0m in \u001b[0;36m<module>\u001b[0;34m()\u001b[0m\n\u001b[1;32m      1\u001b[0m \u001b[0;31m######Importing data sets ##########\u001b[0m\u001b[0;34m\u001b[0m\u001b[0;34m\u001b[0m\u001b[0;34m\u001b[0m\u001b[0m\n\u001b[0;32m----> 2\u001b[0;31m \u001b[0mdp_ottawa\u001b[0m\u001b[0;34m=\u001b[0m\u001b[0mpd\u001b[0m\u001b[0;34m.\u001b[0m\u001b[0mread_csv\u001b[0m\u001b[0;34m(\u001b[0m\u001b[0;34m'Data/Population/ontario_population_ottawa.csv'\u001b[0m\u001b[0;34m,\u001b[0m\u001b[0mheader\u001b[0m\u001b[0;34m=\u001b[0m\u001b[0;36m0\u001b[0m\u001b[0;34m)\u001b[0m \u001b[0;31m#population Ottawa per CT\u001b[0m\u001b[0;34m\u001b[0m\u001b[0;34m\u001b[0m\u001b[0m\n\u001b[0m\u001b[1;32m      3\u001b[0m \u001b[0mdbikes_ottawa\u001b[0m\u001b[0;34m=\u001b[0m \u001b[0mpd\u001b[0m\u001b[0;34m.\u001b[0m\u001b[0mread_csv\u001b[0m\u001b[0;34m(\u001b[0m\u001b[0;34m'Data/Bikes/ontario_bikes_Ottawa.csv'\u001b[0m\u001b[0;34m,\u001b[0m\u001b[0mheader\u001b[0m\u001b[0;34m=\u001b[0m\u001b[0;36m0\u001b[0m\u001b[0;34m)\u001b[0m \u001b[0;31m#Number of bikes Ottawa per CT\u001b[0m\u001b[0;34m\u001b[0m\u001b[0;34m\u001b[0m\u001b[0m\n\u001b[1;32m      4\u001b[0m \u001b[0mdp_toronto\u001b[0m\u001b[0;34m=\u001b[0m\u001b[0mpd\u001b[0m\u001b[0;34m.\u001b[0m\u001b[0mread_csv\u001b[0m\u001b[0;34m(\u001b[0m\u001b[0;34m'Data/Population/toro_population_toronto.csv'\u001b[0m\u001b[0;34m,\u001b[0m\u001b[0mheader\u001b[0m\u001b[0;34m=\u001b[0m\u001b[0;36m0\u001b[0m\u001b[0;34m)\u001b[0m \u001b[0;31m#population Toronto per CT\u001b[0m\u001b[0;34m\u001b[0m\u001b[0;34m\u001b[0m\u001b[0m\n\u001b[1;32m      5\u001b[0m \u001b[0mdbikes_toronto\u001b[0m\u001b[0;34m=\u001b[0m \u001b[0mpd\u001b[0m\u001b[0;34m.\u001b[0m\u001b[0mread_csv\u001b[0m\u001b[0;34m(\u001b[0m\u001b[0;34m'Data/Bikes/toto_bikes_toronto.csv'\u001b[0m\u001b[0;34m,\u001b[0m\u001b[0mheader\u001b[0m\u001b[0;34m=\u001b[0m\u001b[0;36m0\u001b[0m\u001b[0;34m)\u001b[0m \u001b[0;31m#Number of bikes Toronto per CT\u001b[0m\u001b[0;34m\u001b[0m\u001b[0;34m\u001b[0m\u001b[0m\n",
      "\u001b[0;32m/usr/local/lib/python3.6/dist-packages/pandas/io/parsers.py\u001b[0m in \u001b[0;36mread_csv\u001b[0;34m(filepath_or_buffer, sep, delimiter, header, names, index_col, usecols, squeeze, prefix, mangle_dupe_cols, dtype, engine, converters, true_values, false_values, skipinitialspace, skiprows, skipfooter, nrows, na_values, keep_default_na, na_filter, verbose, skip_blank_lines, parse_dates, infer_datetime_format, keep_date_col, date_parser, dayfirst, cache_dates, iterator, chunksize, compression, thousands, decimal, lineterminator, quotechar, quoting, doublequote, escapechar, comment, encoding, dialect, error_bad_lines, warn_bad_lines, delim_whitespace, low_memory, memory_map, float_precision)\u001b[0m\n\u001b[1;32m    686\u001b[0m     )\n\u001b[1;32m    687\u001b[0m \u001b[0;34m\u001b[0m\u001b[0m\n\u001b[0;32m--> 688\u001b[0;31m     \u001b[0;32mreturn\u001b[0m \u001b[0m_read\u001b[0m\u001b[0;34m(\u001b[0m\u001b[0mfilepath_or_buffer\u001b[0m\u001b[0;34m,\u001b[0m \u001b[0mkwds\u001b[0m\u001b[0;34m)\u001b[0m\u001b[0;34m\u001b[0m\u001b[0;34m\u001b[0m\u001b[0m\n\u001b[0m\u001b[1;32m    689\u001b[0m \u001b[0;34m\u001b[0m\u001b[0m\n\u001b[1;32m    690\u001b[0m \u001b[0;34m\u001b[0m\u001b[0m\n",
      "\u001b[0;32m/usr/local/lib/python3.6/dist-packages/pandas/io/parsers.py\u001b[0m in \u001b[0;36m_read\u001b[0;34m(filepath_or_buffer, kwds)\u001b[0m\n\u001b[1;32m    452\u001b[0m \u001b[0;34m\u001b[0m\u001b[0m\n\u001b[1;32m    453\u001b[0m     \u001b[0;31m# Create the parser.\u001b[0m\u001b[0;34m\u001b[0m\u001b[0;34m\u001b[0m\u001b[0;34m\u001b[0m\u001b[0m\n\u001b[0;32m--> 454\u001b[0;31m     \u001b[0mparser\u001b[0m \u001b[0;34m=\u001b[0m \u001b[0mTextFileReader\u001b[0m\u001b[0;34m(\u001b[0m\u001b[0mfp_or_buf\u001b[0m\u001b[0;34m,\u001b[0m \u001b[0;34m**\u001b[0m\u001b[0mkwds\u001b[0m\u001b[0;34m)\u001b[0m\u001b[0;34m\u001b[0m\u001b[0;34m\u001b[0m\u001b[0m\n\u001b[0m\u001b[1;32m    455\u001b[0m \u001b[0;34m\u001b[0m\u001b[0m\n\u001b[1;32m    456\u001b[0m     \u001b[0;32mif\u001b[0m \u001b[0mchunksize\u001b[0m \u001b[0;32mor\u001b[0m \u001b[0miterator\u001b[0m\u001b[0;34m:\u001b[0m\u001b[0;34m\u001b[0m\u001b[0;34m\u001b[0m\u001b[0m\n",
      "\u001b[0;32m/usr/local/lib/python3.6/dist-packages/pandas/io/parsers.py\u001b[0m in \u001b[0;36m__init__\u001b[0;34m(self, f, engine, **kwds)\u001b[0m\n\u001b[1;32m    946\u001b[0m             \u001b[0mself\u001b[0m\u001b[0;34m.\u001b[0m\u001b[0moptions\u001b[0m\u001b[0;34m[\u001b[0m\u001b[0;34m\"has_index_names\"\u001b[0m\u001b[0;34m]\u001b[0m \u001b[0;34m=\u001b[0m \u001b[0mkwds\u001b[0m\u001b[0;34m[\u001b[0m\u001b[0;34m\"has_index_names\"\u001b[0m\u001b[0;34m]\u001b[0m\u001b[0;34m\u001b[0m\u001b[0;34m\u001b[0m\u001b[0m\n\u001b[1;32m    947\u001b[0m \u001b[0;34m\u001b[0m\u001b[0m\n\u001b[0;32m--> 948\u001b[0;31m         \u001b[0mself\u001b[0m\u001b[0;34m.\u001b[0m\u001b[0m_make_engine\u001b[0m\u001b[0;34m(\u001b[0m\u001b[0mself\u001b[0m\u001b[0;34m.\u001b[0m\u001b[0mengine\u001b[0m\u001b[0;34m)\u001b[0m\u001b[0;34m\u001b[0m\u001b[0;34m\u001b[0m\u001b[0m\n\u001b[0m\u001b[1;32m    949\u001b[0m \u001b[0;34m\u001b[0m\u001b[0m\n\u001b[1;32m    950\u001b[0m     \u001b[0;32mdef\u001b[0m \u001b[0mclose\u001b[0m\u001b[0;34m(\u001b[0m\u001b[0mself\u001b[0m\u001b[0;34m)\u001b[0m\u001b[0;34m:\u001b[0m\u001b[0;34m\u001b[0m\u001b[0;34m\u001b[0m\u001b[0m\n",
      "\u001b[0;32m/usr/local/lib/python3.6/dist-packages/pandas/io/parsers.py\u001b[0m in \u001b[0;36m_make_engine\u001b[0;34m(self, engine)\u001b[0m\n\u001b[1;32m   1178\u001b[0m     \u001b[0;32mdef\u001b[0m \u001b[0m_make_engine\u001b[0m\u001b[0;34m(\u001b[0m\u001b[0mself\u001b[0m\u001b[0;34m,\u001b[0m \u001b[0mengine\u001b[0m\u001b[0;34m=\u001b[0m\u001b[0;34m\"c\"\u001b[0m\u001b[0;34m)\u001b[0m\u001b[0;34m:\u001b[0m\u001b[0;34m\u001b[0m\u001b[0;34m\u001b[0m\u001b[0m\n\u001b[1;32m   1179\u001b[0m         \u001b[0;32mif\u001b[0m \u001b[0mengine\u001b[0m \u001b[0;34m==\u001b[0m \u001b[0;34m\"c\"\u001b[0m\u001b[0;34m:\u001b[0m\u001b[0;34m\u001b[0m\u001b[0;34m\u001b[0m\u001b[0m\n\u001b[0;32m-> 1180\u001b[0;31m             \u001b[0mself\u001b[0m\u001b[0;34m.\u001b[0m\u001b[0m_engine\u001b[0m \u001b[0;34m=\u001b[0m \u001b[0mCParserWrapper\u001b[0m\u001b[0;34m(\u001b[0m\u001b[0mself\u001b[0m\u001b[0;34m.\u001b[0m\u001b[0mf\u001b[0m\u001b[0;34m,\u001b[0m \u001b[0;34m**\u001b[0m\u001b[0mself\u001b[0m\u001b[0;34m.\u001b[0m\u001b[0moptions\u001b[0m\u001b[0;34m)\u001b[0m\u001b[0;34m\u001b[0m\u001b[0;34m\u001b[0m\u001b[0m\n\u001b[0m\u001b[1;32m   1181\u001b[0m         \u001b[0;32melse\u001b[0m\u001b[0;34m:\u001b[0m\u001b[0;34m\u001b[0m\u001b[0;34m\u001b[0m\u001b[0m\n\u001b[1;32m   1182\u001b[0m             \u001b[0;32mif\u001b[0m \u001b[0mengine\u001b[0m \u001b[0;34m==\u001b[0m \u001b[0;34m\"python\"\u001b[0m\u001b[0;34m:\u001b[0m\u001b[0;34m\u001b[0m\u001b[0;34m\u001b[0m\u001b[0m\n",
      "\u001b[0;32m/usr/local/lib/python3.6/dist-packages/pandas/io/parsers.py\u001b[0m in \u001b[0;36m__init__\u001b[0;34m(self, src, **kwds)\u001b[0m\n\u001b[1;32m   2008\u001b[0m         \u001b[0mkwds\u001b[0m\u001b[0;34m[\u001b[0m\u001b[0;34m\"usecols\"\u001b[0m\u001b[0;34m]\u001b[0m \u001b[0;34m=\u001b[0m \u001b[0mself\u001b[0m\u001b[0;34m.\u001b[0m\u001b[0musecols\u001b[0m\u001b[0;34m\u001b[0m\u001b[0;34m\u001b[0m\u001b[0m\n\u001b[1;32m   2009\u001b[0m \u001b[0;34m\u001b[0m\u001b[0m\n\u001b[0;32m-> 2010\u001b[0;31m         \u001b[0mself\u001b[0m\u001b[0;34m.\u001b[0m\u001b[0m_reader\u001b[0m \u001b[0;34m=\u001b[0m \u001b[0mparsers\u001b[0m\u001b[0;34m.\u001b[0m\u001b[0mTextReader\u001b[0m\u001b[0;34m(\u001b[0m\u001b[0msrc\u001b[0m\u001b[0;34m,\u001b[0m \u001b[0;34m**\u001b[0m\u001b[0mkwds\u001b[0m\u001b[0;34m)\u001b[0m\u001b[0;34m\u001b[0m\u001b[0;34m\u001b[0m\u001b[0m\n\u001b[0m\u001b[1;32m   2011\u001b[0m         \u001b[0mself\u001b[0m\u001b[0;34m.\u001b[0m\u001b[0munnamed_cols\u001b[0m \u001b[0;34m=\u001b[0m \u001b[0mself\u001b[0m\u001b[0;34m.\u001b[0m\u001b[0m_reader\u001b[0m\u001b[0;34m.\u001b[0m\u001b[0munnamed_cols\u001b[0m\u001b[0;34m\u001b[0m\u001b[0;34m\u001b[0m\u001b[0m\n\u001b[1;32m   2012\u001b[0m \u001b[0;34m\u001b[0m\u001b[0m\n",
      "\u001b[0;32mpandas/_libs/parsers.pyx\u001b[0m in \u001b[0;36mpandas._libs.parsers.TextReader.__cinit__\u001b[0;34m()\u001b[0m\n",
      "\u001b[0;32mpandas/_libs/parsers.pyx\u001b[0m in \u001b[0;36mpandas._libs.parsers.TextReader._setup_parser_source\u001b[0;34m()\u001b[0m\n",
      "\u001b[0;31mFileNotFoundError\u001b[0m: [Errno 2] No such file or directory: 'Data/Population/ontario_population_ottawa.csv'"
     ]
    }
   ],
   "source": [
    "######Importing data sets ##########\n",
    "dp_ottawa=pd.read_csv('Data/Population/ontario_population_ottawa.csv',header=0) #population Ottawa per CT\n",
    "dbikes_ottawa= pd.read_csv('Data/Bikes/ontario_bikes_Ottawa.csv',header=0) #Number of bikes Ottawa per CT\n",
    "dp_toronto=pd.read_csv('Data/Population/toro_population_toronto.csv',header=0) #population Toronto per CT\n",
    "dbikes_toronto= pd.read_csv('Data/Bikes/toto_bikes_toronto.csv',header=0) #Number of bikes Toronto per CT\n",
    "\n",
    "#####To viasualize the general information of data sets #####\n",
    "#display(dp_ottawa.info())\n",
    "#dp_ottawa.nunique()\n",
    "#display(dbikes_ottawa.info())\n",
    "#dbikes_ottawa.nunique()\n",
    "####Shape or tables \n",
    "print(dp_ottawa.shape)\n",
    "print(dbikes_ottawa.shape)\n",
    "print(dp_toronto.shape)\n",
    "print(dbikes_toronto.shape)"
   ]
  },
  {
   "cell_type": "markdown",
   "metadata": {
    "id": "D1i6vkMCLEmo"
   },
   "source": [
    "In the next step is created a joint data set by city, with the information of population and number of bikes"
   ]
  },
  {
   "cell_type": "code",
   "execution_count": null,
   "metadata": {
    "id": "vcWQJLVZwWUW"
   },
   "outputs": [],
   "source": [
    "#####CREATE ONE MIX DATAFRAME FOR ALL DATA PER CITY ###########\n",
    "\n",
    "Data_Ottawa_pop = dp_ottawa.merge(dbikes_ottawa, how = 'inner', left_on='GeoUID', right_on='GeoUID') #Joint data of population and bikes for ottawa\n",
    "Data_toronto_pop = dp_toronto.merge(dbikes_toronto, how = 'inner', left_on='GeoUID', right_on='GeoUID') #Joint data of population and bikes for toronto\n",
    "\n",
    "\n",
    "####Rename of some columns #######\n",
    "Data_Ottawa_pop=Data_Ottawa_pop.rename(columns={'v_CA16_401: Population, 2016':'PopulationCT','v_CA16_406: Population density per square kilometre':'PopulationDensity',\n",
    "                                                'v_CA16_407: Land area in square kilometres':'LandArea(skm)','v_CA16_5809: Bicycle':'BicycleF','v_CA16_5808: Bicycle':'BicycleM','v_CA16_5807: Bicycle':'BicycleT'})\n",
    "\n",
    "Data_toronto_pop=Data_toronto_pop.rename(columns={'v_CA16_401: Population, 2016':'PopulationCT','v_CA16_406: Population density per square kilometre':'PopulationDensity',      \n",
    "                                               'v_CA16_407: Land area in square kilometres':'LandArea(skm)','v_CA16_5809: Bicycle':'BicycleF','v_CA16_5808: Bicycle':'BicycleM','v_CA16_5807: Bicycle':'BicycleT'})\n",
    "\n",
    "Data_Ottawa_pop.loc[132,'BicycleT']=0\n",
    "\n",
    "Data_toronto_pop['BicycleT'] = pd.to_numeric(Data_toronto_pop['BicycleT'])\n",
    "\n",
    "#Data_Ottawa_pop.loc[Data_Ottawa_pop['BicycleT']=='x']\n",
    "Data_Ottawa_pop['BicycleT'] = pd.to_numeric(Data_Ottawa_pop['BicycleT'])\n",
    "\n",
    "# Data_Ottawa_pop.to_csv('Data/Data_Ottawa_pop.csv')\n",
    "# Data_toronto_pop.to_csv('Data/Data_toronto_pop.csv')\n",
    "#print('Done')"
   ]
  },
  {
   "cell_type": "code",
   "execution_count": null,
   "metadata": {
    "id": "bmIUi6BHeqCW"
   },
   "outputs": [],
   "source": [
    "Data_toronto_pop.shape , Data_Ottawa_pop.shape"
   ]
  },
  {
   "cell_type": "markdown",
   "metadata": {
    "id": "X9RJbOcsdaxY"
   },
   "source": [
    "\n",
    "Considering that the bicycle theft databases provide the approximate location of the incident, this parameter is used to unify the databases. The thefts are grouped by CT"
   ]
  },
  {
   "cell_type": "code",
   "execution_count": null,
   "metadata": {
    "id": "Mvmxo6qVdVEL"
   },
   "outputs": [],
   "source": [
    "data_ottawa=pd.read_csv('Data/Bicycle_Theft_Ottawa_geo.csv',header=0) #Theft data by CT ottawa\n",
    "data_toronto= pd.read_csv('Data/Bicycle_Thefts_Toronto_geo.csv',header=0) #Theft data by CT Toronto\n",
    "\n",
    "#display(data_ottawa.info())  #General information of joint data set Ottawa\n",
    "#display(data_toronto.info()) #General information of joint data set Toronto"
   ]
  },
  {
   "cell_type": "code",
   "execution_count": null,
   "metadata": {
    "id": "7KL7zjLienls"
   },
   "outputs": [],
   "source": [
    "#Copy for pick the must important columns\n",
    "Toronto_data=data_toronto[['Index_', 'event_unique_id', 'Primary_Offence',\n",
    "       'Occurrence_Date', 'Occurrence_Year', 'Occurrence_Month',\n",
    "       'Occurrence_Day', 'Occurrence_Time', 'Division', 'City',\n",
    "       'Location_Type', 'Premise_Type', 'Bike_Make', 'Bike_Model', 'Bike_Type',\n",
    "       'Bike_Speed', 'Bike_Colour', 'Cost_of_Bike', 'Status', 'Hood_ID',\n",
    "       'Neighbourhood', 'Lat', 'Long', 'id']].copy()\n",
    "\n",
    "Ottawa_data=data_ottawa[['ID', 'Division', 'Sector', 'Report_Date', 'Incident_Date',\n",
    "       'Incident_Weekday', 'Location_Type', 'Primary_Offence', 'Neighbourhood',\n",
    "       'Bicycle_Status', 'Bicycle_Value', 'Bicycle_Make', 'Bicycle_Model',\n",
    "       'Bicycle_Type', 'Bicycle_Frame', 'Bicycle_Colour', 'Bicycle_Speed', 'x',\n",
    "       'y','id']].copy()\n",
    "\n",
    "Toronto_data=Toronto_data.rename(columns={'id':'GeoUID'}) #Final dataframe with theft data Toronto\n",
    "Ottawa_data=Ottawa_data.rename(columns={'id':'GeoUID'}) #Final dataframe with theft data Ottawa\n",
    "\n",
    "#####Configuration of OcurrenceDate##########\n",
    "day_type = pd.api.types.CategoricalDtype(categories=[\"Monday\",\"Tuesday\",\"Wednesday\",\"Thursday\",\"Friday\",\"Saturday\",\"Sunday\"], ordered=True)\n",
    "\n",
    "\n",
    "Toronto_data['Occurrence_Date']=pd.to_datetime(Toronto_data['Occurrence_Date']) \n",
    "Toronto_data['Week_day']=Toronto_data['Occurrence_Date'].dt.day_name() \n",
    "Toronto_data[\"Week_day\"] = Toronto_data[\"Week_day\"].astype(day_type)\n",
    "\n",
    "Ottawa_data['Incident_Date']=pd.to_datetime(Ottawa_data['Incident_Date']) \n",
    "Ottawa_data['Week_day']=Ottawa_data['Incident_Date'].dt.day_name() \n",
    "Ottawa_data[\"Week_day\"] = Ottawa_data[\"Week_day\"].astype(day_type)\n"
   ]
  },
  {
   "cell_type": "markdown",
   "metadata": {
    "id": "b-_2pSG4T41X"
   },
   "source": [
    "Finally, there is a single data set by city with all the summary information of population, number of bicycles and bicycles stolen by CT (Land area)"
   ]
  },
  {
   "cell_type": "code",
   "execution_count": null,
   "metadata": {
    "id": "VbtIFYQitTV2"
   },
   "outputs": [],
   "source": [
    "####### CONCATENATION OF SETS ###############\n",
    "JointOttawa = pd.merge(Data_Ottawa_pop, Ottawa_data, on='GeoUID', how='right') #JOINT DATA SET OF POPULATION, # BIKES , and THEFTS PER CT\n",
    "JointToronto = pd.merge(Data_toronto_pop, Toronto_data, on='GeoUID', how='right') # JOINT DATA SET OF POPULATION, # BIKES , and THEFTS PER CT\n",
    "\n",
    "### KEEP JUS THE MOST IMPORTANT COLUMNS #####\n",
    "JointToronto.drop(['v_CA16_1: Age Stats', 'Type_y', 'Region Name_y',\n",
    "       'Area (sq km)_y', 'Population _y', 'Dwellings _y', 'Households _y','Index_', 'event_unique_id','City','Premise_Type','Hood_ID'],axis=1,inplace=True)\n",
    "\n",
    "JointOttawa.drop(['v_CA16_1: Age Stats', 'Type_y', 'Region Name_y',\n",
    "       'Area (sq km)_y', 'Population _y', 'Dwellings _y', 'Households _y','ID','Sector','Report_Date','Incident_Weekday','Bicycle_Frame'],axis=1,inplace=True)"
   ]
  },
  {
   "cell_type": "code",
   "execution_count": null,
   "metadata": {
    "id": "1Fks6ycptxd5"
   },
   "outputs": [],
   "source": [
    "######Change the name of columns for have the same information order of information by city #####\n",
    "JointOttawa=JointOttawa.rename(columns={'Type_x':'Type', 'Region Name_x':'RegionName', 'Area (sq km)_x':'Area(sqKm)', 'Population _x':'Population',\n",
    "       'Dwellings _x':'Dwellings', 'Households _x':'Households','Bicycle_Status':'Status','x':'Lat','y':'Long','Bicycle_Value':'Cost_of_Bike','Incident_Date':'Occurrence_Date',\n",
    "       'Bicycle_Make':'Bike_Make', 'Bicycle_Model':'Bike_Model','Bicycle_Type':'Bike_Type', 'Bicycle_Colour':'Bike_Colour', 'Bicycle_Speed':'Bike_Speed'})\n",
    "\n",
    "JointToronto=JointToronto.rename(columns={'Type_x':'Type', 'Region Name_x':'RegionName', 'Area (sq km)_x':'Area(sqKm)', 'Population _x':'Population',\n",
    "       'Dwellings _x':'Dwellings', 'Households _x':'Households'})\n",
    "\n",
    "\n",
    "\n",
    "###Add some dates columns in Ottawa Data set###\n",
    "JointOttawa['Occurrence_Year']=JointOttawa['Occurrence_Date'].dt.year\n",
    "JointOttawa['Occurrence_Month']=JointOttawa['Occurrence_Date'].dt.month\n",
    "JointOttawa['Occurrence_Day']=JointOttawa['Occurrence_Date'].dt.day\n",
    "JointOttawa['Occurrence_Time'] = pd.to_datetime(JointOttawa['Occurrence_Date'],format= '%H:%M:%S' ).dt.time\n",
    "\n",
    "JointToronto['BikeDensity']=JointToronto['BicycleT']/JointToronto['LandArea(skm)'] #Numer of bikes by Km^2 Toronto\n",
    "JointOttawa['BikeDensity']=JointOttawa['BicycleT']/JointOttawa['LandArea(skm)']  #Numer of bikes by Km^2 Toronto\n",
    "\n",
    "JointToronto['City']='Toronto'\n",
    "JointOttawa['City']='Ottawa'\n",
    "\n",
    "####Reorganice the columns of DataFrames #####\n",
    "JointToronto.sort_index(axis=1,inplace=True)\n",
    "JointOttawa.sort_index(axis=1,inplace=True)\n",
    "\n",
    "# JointOttawa.to_csv('Data/JointOttawa.csv')"
   ]
  },
  {
   "cell_type": "markdown",
   "metadata": {
    "id": "UxYJbL2FL-KT"
   },
   "source": [
    "Creation of just one data set with all the information for both cities"
   ]
  },
  {
   "cell_type": "code",
   "execution_count": null,
   "metadata": {
    "id": "cEmlR1Ca9L5E"
   },
   "outputs": [],
   "source": [
    "CityJoint=pd.concat([JointToronto,JointOttawa],ignore_index=True) #Add the two data sets for both cities\n",
    "CityJoint[['BicycleF', 'BicycleM', 'BicycleT']] = CityJoint[['BicycleF', 'BicycleM', 'BicycleT']].apply(pd.to_numeric)\n",
    "#CityJoint.to_csv('Data/CityJoint.csv')\n",
    "CityJoint.info()"
   ]
  },
  {
   "cell_type": "markdown",
   "metadata": {
    "id": "daym71CJOMJ2"
   },
   "source": [
    "In order to make an analysis by year, it is created differents data set:"
   ]
  },
  {
   "cell_type": "code",
   "execution_count": null,
   "metadata": {
    "id": "gOo0s-awS9ZR"
   },
   "outputs": [],
   "source": [
    "Data_Ottawa_pop=Data_Ottawa_pop.rename(columns={'Type_x':'Type', 'Region Name_x':'RegionName', 'Area (sq km)_x':'Area(sqKm)', 'Population _x':'Population',\n",
    "       'Dwellings _x':'Dwellings', 'Households _x':'Households'})\n",
    "\n",
    "Data_toronto_pop=Data_toronto_pop.rename(columns={'Type_x':'Type', 'Region Name_x':'RegionName', 'Area (sq km)_x':'Area(sqKm)', 'Population _x':'Population',\n",
    "       'Dwellings _x':'Dwellings', 'Households _x':'Households'})"
   ]
  },
  {
   "cell_type": "code",
   "execution_count": null,
   "metadata": {
    "id": "cRX6h_2XVCjW"
   },
   "outputs": [],
   "source": [
    "Data_TOR=pd.concat([Data_toronto_pop,Data_Ottawa_pop],ignore_index=True)\n",
    "Data_TOR.drop(['v_CA16_1: Age Stats', 'Type_y', 'Region Name_y',\n",
    "       'Area (sq km)_y', 'Population _y', 'Dwellings _y', 'Households _y'],axis=1,inplace=True)\n",
    "#Data_TOR.shape , Data_Ottawa_pop.shape , Data_toronto_pop.shape\n",
    "Data_TOR.columns\n",
    "Data_TOR['GeoUID'].nunique()"
   ]
  },
  {
   "cell_type": "code",
   "execution_count": null,
   "metadata": {
    "id": "HvwhZzMyo2AC"
   },
   "outputs": [],
   "source": [
    "Data_TOR.columns"
   ]
  },
  {
   "cell_type": "code",
   "execution_count": null,
   "metadata": {
    "id": "_hpijR0Zmp4w"
   },
   "outputs": [],
   "source": [
    "def drop_x(df):\n",
    "    # list comprehension of the cols that end with '_y'\n",
    "    to_drop = [x for x in df if x.endswith('_x')]\n",
    "    df.drop(to_drop, axis=1, inplace=True)"
   ]
  },
  {
   "cell_type": "code",
   "execution_count": null,
   "metadata": {
    "id": "8trpbvKfWvgE"
   },
   "outputs": [],
   "source": [
    "def ForDataFrameYear(Data_TOR,CityJoint,n_year):\n",
    "\n",
    "  CityJoint_y=CityJoint[CityJoint['Occurrence_Year']==n_year]\n",
    "  CityJoint_y = CityJoint_y.merge(Data_TOR,  how='right', on='GeoUID', suffixes=('_x', ''))\n",
    "  drop_x(CityJoint_y)\n",
    "  CityJoint_y[\"Status\"].fillna(\"Bicycle_No_Theft\", inplace = True) \n",
    "  return CityJoint_y\n",
    "#CityJoint_2014['GeoUID'].nunique()"
   ]
  },
  {
   "cell_type": "code",
   "execution_count": null,
   "metadata": {
    "id": "_Q6RA-4zxiHA"
   },
   "outputs": [],
   "source": [
    "CityJoint_2014= ForDataFrameYear(Data_TOR,CityJoint,2014)\n",
    "CityJoint_2015= ForDataFrameYear(Data_TOR,CityJoint,2015)\n",
    "CityJoint_2016= ForDataFrameYear(Data_TOR,CityJoint,2016)\n",
    "CityJoint_2017= ForDataFrameYear(Data_TOR,CityJoint,2017)\n",
    "CityJoint_2018= ForDataFrameYear(Data_TOR,CityJoint,2018)\n",
    "CityJoint_2019= ForDataFrameYear(Data_TOR,CityJoint,2019)"
   ]
  },
  {
   "cell_type": "code",
   "execution_count": null,
   "metadata": {
    "id": "Ce0tn1yOyjNd"
   },
   "outputs": [],
   "source": [
    "CityJoint_2014.to_csv('Data/CityJoint_2014Full.csv')\n",
    "CityJoint_2015.to_csv('Data/CityJoint_2015Full.csv')\n",
    "CityJoint_2016.to_csv('Data/CityJoint_2016Full.csv')\n",
    "CityJoint_2017.to_csv('Data/CityJoint_2017Full.csv')\n",
    "CityJoint_2018.to_csv('Data/CityJoint_2018Full.csv')\n",
    "CityJoint_2019.to_csv('Data/CityJoint_2019Full.csv')"
   ]
  },
  {
   "cell_type": "markdown",
   "metadata": {
    "id": "9ytLfsGpWjIT"
   },
   "source": [
    "# **Statistical analysis and visualization**\n",
    "\n",
    "In this section we analyze and compare the bicycle thefts in the cities of Toronoto and Ottawa"
   ]
  },
  {
   "cell_type": "markdown",
   "metadata": {
    "id": "GJCw9V0--wHF"
   },
   "source": [
    "## **Data preparation**"
   ]
  },
  {
   "cell_type": "code",
   "execution_count": null,
   "metadata": {
    "id": "uQk_i2be3dUZ"
   },
   "outputs": [],
   "source": [
    "def Create_DensityFrame(_Joint,_pop,LandArea_,Population_,bike):\n",
    "\n",
    "  #Extraction of just stolen bikes status\n",
    "\n",
    "  Year_aux=_Joint[_Joint['Status']=='STOLEN'].groupby(['Occurrence_Year','GeoUID']).size().reset_index().rename(columns={0:'Count'}) \n",
    "  Aux_Geo_ot = pd.merge(Year_aux,_pop[['GeoUID','PopulationCT']], on='GeoUID', how='left')\n",
    "  Aux_Geo_2_ot=Aux_Geo_ot.groupby(['Occurrence_Year']).sum().reset_index().rename(columns={'Count':'SumThBikes'}) #Sum total per year\n",
    "\n",
    "  #####NEW VARIABLES OF DENSITY ANALYSIS #########\n",
    "  Aux_Geo_2_ot['BicycleT']=bike\n",
    "  Aux_Geo_2_ot['BikesThDensity']=Aux_Geo_2_ot['SumThBikes']/LandArea_ #Theft bikes density\n",
    "  Aux_Geo_2_ot['BikesDensity']=bike/ LandArea_#Bikes density\n",
    "  Aux_Geo_2_ot['PopulationDensity'] = Population_/LandArea_ #Population Density\n",
    "  Aux_Geo_2_ot['LandArea']=LandArea_\n",
    "  Aux_Geo_2_ot['%Theft/sqKm'] = (Aux_Geo_2_ot['BikesThDensity']/Aux_Geo_2_ot['BikesDensity'])*100 #Percentage of stoles bikes by sq Km\n",
    "  Aux_Geo_2_ot['%PopulationBike'] =(Aux_Geo_2_ot['BikesDensity']/Aux_Geo_2_ot['PopulationDensity'])*100 #Percentage of bikes by sq Km\n",
    "  \n",
    "  return Aux_Geo_2_ot"
   ]
  },
  {
   "cell_type": "code",
   "execution_count": null,
   "metadata": {
    "id": "LppsJ7Ngpo-c"
   },
   "outputs": [],
   "source": [
    "\n",
    "def LineGrahp (Density,x_data,y_data,title):\n",
    "\n",
    "  #fig = px.line(Density_Ottawa, x='Occurrence_Year', y='BikesDensity')\n",
    "  fig = px.line(Density, x=x_data, y=y_data, title=title)\n",
    "  fig.show()\n"
   ]
  },
  {
   "cell_type": "code",
   "execution_count": null,
   "metadata": {
    "id": "OGrin3Sn1Mq-"
   },
   "outputs": [],
   "source": [
    "#EXTRACT ONLY STOLEN OCURRENCES\n",
    "# JointOttawa =JointOttawa.loc[(JointOttawa['Bicycle_Status']=='STOLEN')] \n",
    "# JointToronto =JointToronto.loc[(JointToronto['Status']=='STOLEN')]"
   ]
  },
  {
   "cell_type": "markdown",
   "metadata": {
    "id": "mMdZmlQJvQzx"
   },
   "source": [
    "The following is a comparison of bicycle theft rates by city on an annual basis. First, some filters are applied to the data in order to obtain these graphs."
   ]
  },
  {
   "cell_type": "code",
   "execution_count": null,
   "metadata": {
    "id": "sfnL3VYncpih"
   },
   "outputs": [],
   "source": [
    "LandArea_Toronto=Data_toronto_pop['LandArea(skm)'].sum() #Asuming Land area constant during years\n",
    "LandArea_Ottawa=Data_Ottawa_pop['LandArea(skm)'].sum() #Asuming Land area constant during years\n",
    "Population_Ottawa=Data_Ottawa_pop['PopulationCT'].sum() #Asuming Population constant during years\n",
    "Population_Toronto=Data_toronto_pop['PopulationCT'].sum() #Asuming Population constant during years\n",
    "bikes_Toronto=Data_toronto_pop['BicycleT'].sum() #Asuming reported bikes constant during years\n",
    "bikes_Ottawa=Data_Ottawa_pop['BicycleT'].sum() #Asuming reported bikes constant during years\n",
    "\n",
    "Density_Ottawa=Create_DensityFrame(OttawaJoint,Data_Ottawa_pop,LandArea_Ottawa,Population_Ottawa,bikes_Ottawa)\n",
    "Density_Toronto=Create_DensityFrame(TorontoJoint,Data_toronto_pop,LandArea_Toronto,Population_Toronto,bikes_Toronto)"
   ]
  },
  {
   "cell_type": "code",
   "execution_count": null,
   "metadata": {
    "id": "oOK6eMxHL0pE"
   },
   "outputs": [],
   "source": [
    "Density_Ottawa"
   ]
  },
  {
   "cell_type": "code",
   "execution_count": null,
   "metadata": {
    "id": "srgh-RNL7kuj"
   },
   "outputs": [],
   "source": [
    "Density_Toronto"
   ]
  },
  {
   "cell_type": "markdown",
   "metadata": {
    "id": "ggx3YoDB-3ho"
   },
   "source": [
    "## Visualization"
   ]
  },
  {
   "cell_type": "markdown",
   "metadata": {
    "id": "B8c5aR3BOn3y"
   },
   "source": [
    "In general, in terms of surface area in $km^2$, Ottawa is much larger than Toronto, but this does not indicate that it has a larger population. According to data provided by governments, Toronto has a much higher population density than Ottawa. The following table summarizes some of these indicators, however, the percentage of the population that reported having a bicycle per square kilometer is very similar."
   ]
  },
  {
   "cell_type": "markdown",
   "metadata": {
    "id": "OTTcJVfBZ7jv"
   },
   "source": [
    "### Anual analysis"
   ]
  },
  {
   "cell_type": "markdown",
   "metadata": {
    "id": "ICKc9ZvbbK4H"
   },
   "source": [
    "The following table presents a summary of the main indicators of interest for the cities of Ottawa and Toronto. It can be seen that given the large number of inhabitants in Toronto, there are approximately 4334 citizens for $Km^2$, while in Ottawa, despite being a large city, there are 272 inhabitants for $Km^2$. As it is expected the density of people with bicycles is higher in the city of Toronto, with approximately 54 for $Km^2$, nevertheless, the percentage of population that has a bicycle for $Km^2$ in both cities is similar. It is 1.16% and 1.25% for Ottawa and Toronto, respectively"
   ]
  },
  {
   "cell_type": "code",
   "execution_count": null,
   "metadata": {
    "id": "2kARTItt4iOC"
   },
   "outputs": [],
   "source": [
    "Indexes_Ottawa=Density_Ottawa[['BicycleT','BikesDensity', 'PopulationDensity', 'LandArea', '%PopulationBike']].copy().drop_duplicates().T.rename(columns={0:'Ottawa'}) \n",
    "Indexes_Toronto=Density_Toronto[['BicycleT','BikesDensity', 'PopulationDensity', 'LandArea', '%PopulationBike']].copy().drop_duplicates().T.rename(columns={0:'Toronto'}) \n",
    "\n",
    "pd.concat([Indexes_Ottawa,Indexes_Toronto],axis=1)"
   ]
  },
  {
   "cell_type": "markdown",
   "metadata": {
    "id": "O6zeCVe3-U-L"
   },
   "source": [
    "Below are the bicycle theft density graphs for each city. In Ottawa, a similar behavior is presented over the years, with an average value of 0.25 bicycles per $Km^2$. In Toronto, an increase is observed between 2014 and 2018, going from 4.6 to 6.11 bicycles stolen for $Km^2$. However, between 2018 and 2019 a slight decrease is observed, reaching a minimum value of 5.65 bicycles stolen for $Km^2$."
   ]
  },
  {
   "cell_type": "code",
   "execution_count": null,
   "metadata": {
    "id": "k7WAqyEW-Id2"
   },
   "outputs": [],
   "source": [
    "LineGrahp(Density_Ottawa,'Occurrence_Year','BikesThDensity','Bike theft density for Ottawa')\n",
    "LineGrahp(Density_Toronto,'Occurrence_Year','BikesThDensity','Bike theft density for Toronto')"
   ]
  },
  {
   "cell_type": "markdown",
   "metadata": {
    "id": "kxMCh4Xjekm4"
   },
   "source": [
    "The following chart shows the comparison of the percentage of stolen bicycles per year for $Km^2$. A stable behavior is observed between both cities during the years 2015 to 2018, and a slight decrease between 2018 and 2019 in both cities. However, the density of the percentage of bicycles stolen in the city of Toronto is generally higher than in the city of Ottawa by approximately 2 pp."
   ]
  },
  {
   "cell_type": "code",
   "execution_count": null,
   "metadata": {
    "id": "sfRWN7uaPwdj"
   },
   "outputs": [],
   "source": [
    "\n",
    "fig = go.Figure()\n",
    "\n",
    "fig.add_trace(go.Scatter(x=Density_Toronto['Occurrence_Year'],y=Density_Toronto['%Theft/sqKm'],mode='lines',name='Toronto city'))\n",
    "fig.add_trace(go.Scatter(x=Density_Ottawa['Occurrence_Year'],y=Density_Ottawa['%Theft/sqKm'],mode='lines',name='Ottawa city'))\n",
    "\n",
    "# Edit the layout\n",
    "fig.update_layout(title='Percentage of bicycle theft per square kilometer',\n",
    "                   xaxis_title='Year',\n",
    "                   yaxis_title='%Theft/sqKm')\n",
    "fig.show()"
   ]
  },
  {
   "cell_type": "markdown",
   "metadata": {
    "id": "KpkBovxKaMEn"
   },
   "source": [
    "As mentioned above, the CT will be taken as a spacial measure of comparison between cities, taking into account that there is information on the approximate location of bicycle theft in both cities"
   ]
  },
  {
   "cell_type": "code",
   "execution_count": null,
   "metadata": {
    "id": "ydhU20gnrIh9"
   },
   "outputs": [],
   "source": [
    "TorontoJoint.columns"
   ]
  },
  {
   "cell_type": "code",
   "execution_count": null,
   "metadata": {
    "id": "huyGq2nUOAdP"
   },
   "outputs": [],
   "source": [
    "OttawaJoint.columns"
   ]
  },
  {
   "cell_type": "code",
   "execution_count": null,
   "metadata": {
    "id": "WBZZUHwq-ar0"
   },
   "outputs": [],
   "source": [
    "#####TORONTO######\n",
    "AuxTorontoJoint=TorontoJoint[['City','GeoUID','LandArea(skm)','Occurrence_Year',\n",
    "       'Occurrence_Month', 'Occurrence_Day',\n",
    "        'Occurrence_Time','Week_day','Neighbourhood','Lat', 'Long','BicycleT','PopulationCT', 'PopulationDensity','Cost_of_Bike']].copy()\n",
    "\n",
    "AuxTorontoJoint.drop_duplicates(['City','GeoUID','LandArea(skm)','Occurrence_Year',\n",
    "       'Occurrence_Month', 'Occurrence_Day',\n",
    "        'Occurrence_Time','Week_day','Neighbourhood','Lat', 'Long','BicycleT','PopulationCT', 'PopulationDensity','Cost_of_Bike'],inplace=True)\n",
    "\n",
    "##### OTTAWA #####\n",
    "\n",
    "AuxOttawaJoint=OttawaJoint[['City','GeoUID','LandArea(skm)','Occurrence_Year',\n",
    "       'Occurrence_Month', 'Occurrence_Day',\n",
    "        'Occurrence_Time','Week_day','Neighbourhood','Lat', 'Long','BicycleT','PopulationCT', 'PopulationDensity','Cost_of_Bike']].copy()\n",
    "\n",
    "AuxOttawaJoint.drop_duplicates(['City','GeoUID','LandArea(skm)','Occurrence_Year',\n",
    "       'Occurrence_Month', 'Occurrence_Day',\n",
    "        'Occurrence_Time','Week_day','Neighbourhood','Lat', 'Long','BicycleT','PopulationCT', 'PopulationDensity','Cost_of_Bike'],inplace=True)\n",
    "\n",
    "# AuxTorontoJoint=AuxTorontoJoint.loc[(AuxTorontoJoint['Neighbourhood']=='Bendale (127)') & (AuxTorontoJoint['GeoUID']==5350369.00),['GeoUID','LandArea(skm)','Occurrence_Year',\n",
    "#        'Occurrence_Month', 'Occurrence_Day',\n",
    "#         'Occurrence_Time','Neighbourhood','Lat', 'Long']]\n",
    "\n",
    "#19258 Toronto 5634\n",
    "\n",
    "print(AuxTorontoJoint.shape)\n",
    "print(AuxOttawaJoint.shape)\n",
    "\n",
    "OttawaJoint = JointOttawa[['GeoUID', 'Type_x', 'Region Name_x', 'Area (sq km)_x', 'Population _x',\n",
    "       'Dwellings _x', 'Households _x', 'PopulationCT', 'PopulationDensity',\n",
    "       'LandArea(skm)','BicycleF', 'BicycleM', 'BicycleT', 'ID', 'Division', 'Sector',\n",
    "       'Report_Date', 'Incident_Date', 'Incident_Weekday', 'Location_Type',\n",
    "       'Primary_Offence', 'Neighbourhood', 'Bicycle_Status', 'Bicycle_Value',\n",
    "       'Bicycle_Make', 'Bicycle_Model', 'Bicycle_Type', 'Bicycle_Frame',\n",
    "       'Bicycle_Colour', 'Bicycle_Speed', 'x', 'y', 'Week_day']].copy()\n",
    "\n",
    "OttawaJoint=OttawaJoint.rename(columns={'Type_x':'Type', 'Region Name_x':'RegionName', 'Area (sq km)_x':'Area(sqKm)', 'Population _x':'Population',\n",
    "       'Dwellings _x':'Dwellings', 'Households _x':'Households','Bicycle_Status':'Status','x':'Lat','y':'Long','Bicycle_Value':'Cost_of_Bike'})\n",
    "\n",
    "TorontoJoint = JointToronto[['GeoUID', 'Type_x', 'Region Name_x', 'Area (sq km)_x', 'Population _x',\n",
    "       'Dwellings _x', 'Households _x', 'PopulationCT', 'PopulationDensity',\n",
    "       'LandArea(skm)','BicycleF', 'BicycleM', 'BicycleT', 'Index_', 'event_unique_id',\n",
    "       'Primary_Offence', 'Occurrence_Date', 'Occurrence_Year',\n",
    "       'Occurrence_Month', 'Occurrence_Day', 'Occurrence_Time', 'Division',\n",
    "       'City', 'Location_Type', 'Premise_Type', 'Bike_Make', 'Bike_Model',\n",
    "       'Bike_Type', 'Bike_Speed', 'Bike_Colour', 'Cost_of_Bike', 'Status',\n",
    "       'Hood_ID', 'Neighbourhood', 'Lat', 'Long', 'Week_day']].copy()\n",
    "\n",
    "\n",
    "TorontoJoint=TorontoJoint.rename(columns={'Type_x':'Type', 'Region Name_x':'RegionName', 'Area (sq km)_x':'Area(sqKm)', 'Population _x':'Population',\n",
    "       'Dwellings _x':'Dwellings', 'Households _x':'Households'})\n",
    "\n",
    "OttawaJoint[['BicycleF', 'BicycleM', 'BicycleT']] = OttawaJoint[['BicycleF', 'BicycleM', 'BicycleT']].apply(pd.to_numeric)\n",
    "\n",
    "OttawaJoint['Occurrence_Year']=OttawaJoint['Incident_Date'].dt.year\n",
    "OttawaJoint['Occurrence_Month']=OttawaJoint['Incident_Date'].dt.month\n",
    "OttawaJoint['Occurrence_Day']=OttawaJoint['Incident_Date'].dt.day\n",
    "OttawaJoint['Occurrence_Time'] = pd.to_datetime(OttawaJoint['Incident_Date'],format= '%H:%M:%S' ).dt.time\n",
    "#####Calculation of bikes by square km ######\n",
    "\n",
    "TorontoJoint['BikeDensity']=TorontoJoint['BicycleT']/TorontoJoint['LandArea(skm)']\n",
    "OttawaJoint['BikeDensity']=OttawaJoint['BicycleT']/OttawaJoint['LandArea(skm)']\n",
    "\n",
    "TorontoJoint['City']='Toronto'\n",
    "OttawaJoint['City']='Ottawa'"
   ]
  },
  {
   "cell_type": "code",
   "execution_count": null,
   "metadata": {
    "id": "1B81ZEtJ8Yju"
   },
   "outputs": [],
   "source": [
    "ALL_Joint.columns"
   ]
  },
  {
   "cell_type": "code",
   "execution_count": null,
   "metadata": {
    "id": "U6XuloQZUMjT"
   },
   "outputs": [],
   "source": [
    "CT_AllCity=ALL_Joint.groupby(['City','Neighbourhood','GeoUID','LandArea(skm)','Occurrence_Year',\n",
    "       'Occurrence_Month', 'Occurrence_Day',\n",
    "        'Occurrence_Time','Lat', 'Long','BicycleT','PopulationCT', 'PopulationDensity','Cost_of_Bike']).size().reset_index().rename(columns={0:'Count'}).sort_values(by= 'Count',ascending=False)\n",
    "\n",
    "CT_AllCity['DensityThBike']=CT_AllCity['Count']/CT_AllCity['LandArea(skm)']\n",
    "CT_AllCity['DensityBikeT']=CT_AllCity['BicycleT']/CT_AllCity['LandArea(skm)']\n",
    "CT_AllCity['%TheftBikes'] = (CT_AllCity['DensityThBike']/CT_AllCity['DensityBikeT'])*100\n"
   ]
  },
  {
   "cell_type": "code",
   "execution_count": null,
   "metadata": {
    "id": "iDo5pZZgUc_1"
   },
   "outputs": [],
   "source": [
    "# CT_AllCity_aux=CT_AllCity.loc[(CT_AllCity['City']=='Toronto')&(CT_AllCity['Neighbourhood']=='Bendale (127)') & (CT_AllCity['GeoUID']==5350369.00),['City','GeoUID','LandArea(skm)','Occurrence_Year',\n",
    "#        'Occurrence_Month', 'Occurrence_Day',\n",
    "#         'Occurrence_Time','Neighbourhood','Lat', 'Long','BicycleT','PopulationCT', 'PopulationDensity','Cost_of_Bike','Count']]\n",
    "print(CT_AllCity.shape)\n",
    "CT_AllCity"
   ]
  },
  {
   "cell_type": "markdown",
   "metadata": {
    "id": "cz1qRw6qyz03"
   },
   "source": [
    "***What day do the most thefts occur ?***\n",
    "\n",
    "According to the figure, it is observed that there is not a great difference between the number of thefts reported per day among the different days of the week, however it is observed that the greatest amount of thefts occur on Friday"
   ]
  },
  {
   "cell_type": "markdown",
   "metadata": {
    "id": "lqEnIXZnRtfk"
   },
   "source": [
    "#Day Analysis"
   ]
  },
  {
   "cell_type": "code",
   "execution_count": null,
   "metadata": {
    "id": "BtCgf_ljNRHJ"
   },
   "outputs": [],
   "source": [
    "CityJoint_2014Full = pd.read_csv('/content/gdrive/My Drive/IMT Atlantique/Data Science/Project Bycicle/bikes-theft-model/Data/CityJoint_2014.csv', header =0, index_col='Unnamed: 0')\n",
    "CityJoint_2015Full = pd.read_csv('/content/gdrive/My Drive/IMT Atlantique/Data Science/Project Bycicle/bikes-theft-model/Data/CityJoint_2015.csv', header =0, index_col='Unnamed: 0')\n",
    "CityJoint_2016Full = pd.read_csv('/content/gdrive/My Drive/IMT Atlantique/Data Science/Project Bycicle/bikes-theft-model/Data/CityJoint_2016.csv', header =0, index_col='Unnamed: 0')\n",
    "CityJoint_2017Full = pd.read_csv('/content/gdrive/My Drive/IMT Atlantique/Data Science/Project Bycicle/bikes-theft-model/Data/CityJoint_2017.csv', header =0, index_col='Unnamed: 0')\n",
    "CityJoint_2018Full = pd.read_csv('/content/gdrive/My Drive/IMT Atlantique/Data Science/Project Bycicle/bikes-theft-model/Data/CityJoint_2018.csv', header =0, index_col='Unnamed: 0')\n",
    "CityJoint_2019Full = pd.read_csv('/content/gdrive/My Drive/IMT Atlantique/Data Science/Project Bycicle/bikes-theft-model/Data/CityJoint_2019.csv', header =0, index_col='Unnamed: 0')\n"
   ]
  },
  {
   "cell_type": "code",
   "execution_count": null,
   "metadata": {
    "colab": {
     "base_uri": "https://localhost:8080/"
    },
    "executionInfo": {
     "elapsed": 854,
     "status": "ok",
     "timestamp": 1605550681349,
     "user": {
      "displayName": "diego carreño",
      "photoUrl": "",
      "userId": "04170820117994049109"
     },
     "user_tz": -60
    },
    "id": "24EXn1PnTBaV",
    "outputId": "9187d033-1171-4bd5-c8b5-9373d3d24d5b"
   },
   "outputs": [
    {
     "data": {
      "text/plain": [
       "Index(['BikeDensity', 'Bike_Colour', 'Bike_Make', 'Bike_Model', 'Bike_Speed',\n",
       "       'Bike_Type', 'City', 'Cost_of_Bike', 'Division', 'GeoUID', 'Lat',\n",
       "       'Location_Type', 'Long', 'Neighbourhood', 'Occurrence_Date',\n",
       "       'Occurrence_Day', 'Occurrence_Month', 'Occurrence_Time',\n",
       "       'Occurrence_Year', 'Primary_Offence', 'Status', 'Week_day', 'Type',\n",
       "       'RegionName', 'Area(sqKm)', 'Population', 'Dwellings', 'Households',\n",
       "       'PopulationCT', 'PopulationDensity', 'LandArea(skm)', 'BicycleF',\n",
       "       'BicycleM', 'BicycleT'],\n",
       "      dtype='object')"
      ]
     },
     "execution_count": 6,
     "metadata": {
      "tags": []
     },
     "output_type": "execute_result"
    }
   ],
   "source": [
    "CityJoint_2014Full.columns"
   ]
  },
  {
   "cell_type": "code",
   "execution_count": null,
   "metadata": {
    "id": "oHeZRKAkOfFu"
   },
   "outputs": [],
   "source": [
    "Stolen_bikes_df_2014 = CityJoint_2014Full[CityJoint_2014Full['Status']=='STOLEN'].groupby(['Occurrence_Day','PopulationCT', 'BicycleT', 'Area(sqKm)']).size().reset_index().rename(columns={0:'Count'})\n",
    "Stolen_bikes_df_2014['%_TheftDensity'] = (Stolen_bikes_df_2014['Count'] *  Stolen_bikes_df_2014['Area(sqKm)']) / Stolen_bikes_df_2014['BicycleT']\n",
    "\n",
    "Stolen_bikes_df_2015 = CityJoint_2015Full[CityJoint_2015Full['Status']=='STOLEN'].groupby(['Occurrence_Day','PopulationCT', 'BicycleT', 'Area(sqKm)']).size().reset_index().rename(columns={0:'Count'})\n",
    "Stolen_bikes_df_2015['%_TheftDensity'] = (Stolen_bikes_df_2015['Count'] *  Stolen_bikes_df_2015['Area(sqKm)']) / Stolen_bikes_df_2015['BicycleT']\n",
    "\n",
    "Stolen_bikes_df_2016 = CityJoint_2016Full[CityJoint_2016Full['Status']=='STOLEN'].groupby(['Occurrence_Day','PopulationCT', 'BicycleT', 'Area(sqKm)']).size().reset_index().rename(columns={0:'Count'})\n",
    "Stolen_bikes_df_2016['%_TheftDensity'] = (Stolen_bikes_df_2016['Count'] *  Stolen_bikes_df_2016['Area(sqKm)']) / Stolen_bikes_df_2016['BicycleT']\n",
    "\n",
    "Stolen_bikes_df_2017 = CityJoint_2017Full[CityJoint_2017Full['Status']=='STOLEN'].groupby(['Occurrence_Day','PopulationCT', 'BicycleT', 'Area(sqKm)']).size().reset_index().rename(columns={0:'Count'})\n",
    "Stolen_bikes_df_2017['%_TheftDensity'] = (Stolen_bikes_df_2017['Count'] *  Stolen_bikes_df_2017['Area(sqKm)']) / Stolen_bikes_df_2017['BicycleT']\n",
    "\n",
    "Stolen_bikes_df_2018 = CityJoint_2018Full[CityJoint_2018Full['Status']=='STOLEN'].groupby(['Occurrence_Day','PopulationCT', 'BicycleT', 'Area(sqKm)']).size().reset_index().rename(columns={0:'Count'})\n",
    "Stolen_bikes_df_2018['%_TheftDensity'] = (Stolen_bikes_df_2018['Count'] *  Stolen_bikes_df_2018['Area(sqKm)']) / Stolen_bikes_df_2018['BicycleT']\n",
    "\n",
    "Stolen_bikes_df_2019 = CityJoint_2019Full[CityJoint_2019Full['Status']=='STOLEN'].groupby(['Occurrence_Day','PopulationCT', 'BicycleT', 'Area(sqKm)']).size().reset_index().rename(columns={0:'Count'})\n",
    "Stolen_bikes_df_2019['%_TheftDensity'] = (Stolen_bikes_df_2019['Count'] *  Stolen_bikes_df_2019['Area(sqKm)']) / Stolen_bikes_df_2019['BicycleT']"
   ]
  },
  {
   "cell_type": "code",
   "execution_count": null,
   "metadata": {
    "id": "SSNHvLYZWGIv"
   },
   "outputs": [],
   "source": [
    "Stolen_bikes_df"
   ]
  },
  {
   "cell_type": "markdown",
   "metadata": {
    "id": "axiV2Cw_XB0H"
   },
   "source": [
    "# Hour Analysis"
   ]
  },
  {
   "cell_type": "code",
   "execution_count": null,
   "metadata": {
    "id": "UhEhACjDQijB"
   },
   "outputs": [],
   "source": [
    "Stolen_bikes_df_D2014 = CityJoint_2014Full[CityJoint_2014Full['Status']=='STOLEN'].groupby(['Occurrence_Time','PopulationCT', 'BicycleT', 'Area(sqKm)']).size().reset_index().rename(columns={0:'Count'})\n",
    "Stolen_bikes_df_D2014['%_TheftDensity'] = (Stolen_bikes_df_D2014['Count'] *  Stolen_bikes_df_D2014['Area(sqKm)']) / Stolen_bikes_df_D2014['BicycleT']\n",
    "\n",
    "Stolen_bikes_df_D2015 = CityJoint_2015Full[CityJoint_2015Full['Status']=='STOLEN'].groupby(['Occurrence_Time','PopulationCT', 'BicycleT', 'Area(sqKm)']).size().reset_index().rename(columns={0:'Count'})\n",
    "Stolen_bikes_df_D2015['%_TheftDensity'] = (Stolen_bikes_df_D2015['Count'] *  Stolen_bikes_df_D2015['Area(sqKm)']) / Stolen_bikes_df_D2015['BicycleT']\n",
    "\n",
    "Stolen_bikes_df_D2016 = CityJoint_2016Full[CityJoint_2016Full['Status']=='STOLEN'].groupby(['Occurrence_Time','PopulationCT', 'BicycleT', 'Area(sqKm)']).size().reset_index().rename(columns={0:'Count'})\n",
    "Stolen_bikes_df_D2016['%_TheftDensity'] = (Stolen_bikes_df_D2016['Count'] *  Stolen_bikes_df_D2016['Area(sqKm)']) / Stolen_bikes_df_D2016['BicycleT']\n",
    "\n",
    "Stolen_bikes_df_D2017 = CityJoint_2017Full[CityJoint_2017Full['Status']=='STOLEN'].groupby(['Occurrence_Time','PopulationCT', 'BicycleT', 'Area(sqKm)']).size().reset_index().rename(columns={0:'Count'})\n",
    "Stolen_bikes_df_D2017['%_TheftDensity'] = (Stolen_bikes_df_D2017['Count'] *  Stolen_bikes_df_D2017['Area(sqKm)']) / Stolen_bikes_df_D2017['BicycleT']\n",
    "\n",
    "Stolen_bikes_df_D2018 = CityJoint_2018Full[CityJoint_2018Full['Status']=='STOLEN'].groupby(['Occurrence_Time','PopulationCT', 'BicycleT', 'Area(sqKm)']).size().reset_index().rename(columns={0:'Count'})\n",
    "Stolen_bikes_df_D2018['%_TheftDensity'] = (Stolen_bikes_df_D2018['Count'] *  Stolen_bikes_df_D2018['Area(sqKm)']) / Stolen_bikes_df_D2018['BicycleT']\n",
    "\n",
    "Stolen_bikes_df_D2019 = CityJoint_2019Full[CityJoint_2019Full['Status']=='STOLEN'].groupby(['Occurrence_Time','PopulationCT', 'BicycleT', 'Area(sqKm)']).size().reset_index().rename(columns={0:'Count'})\n",
    "Stolen_bikes_df_D2019['%_TheftDensity'] = (Stolen_bikes_df_D2019['Count'] *  Stolen_bikes_df_D2019['Area(sqKm)']) / Stolen_bikes_df_D2019['BicycleT']"
   ]
  },
  {
   "cell_type": "code",
   "execution_count": null,
   "metadata": {
    "colab": {
     "base_uri": "https://localhost:8080/",
     "height": 206
    },
    "executionInfo": {
     "elapsed": 1325,
     "status": "ok",
     "timestamp": 1605550952852,
     "user": {
      "displayName": "diego carreño",
      "photoUrl": "",
      "userId": "04170820117994049109"
     },
     "user_tz": -60
    },
    "id": "sSYUappdR10n",
    "outputId": "306f016b-83da-4e9c-9c3b-063a53671986"
   },
   "outputs": [
    {
     "data": {
      "text/html": [
       "<div>\n",
       "<style scoped>\n",
       "    .dataframe tbody tr th:only-of-type {\n",
       "        vertical-align: middle;\n",
       "    }\n",
       "\n",
       "    .dataframe tbody tr th {\n",
       "        vertical-align: top;\n",
       "    }\n",
       "\n",
       "    .dataframe thead th {\n",
       "        text-align: right;\n",
       "    }\n",
       "</style>\n",
       "<table border=\"1\" class=\"dataframe\">\n",
       "  <thead>\n",
       "    <tr style=\"text-align: right;\">\n",
       "      <th></th>\n",
       "      <th>Occurrence_Time</th>\n",
       "      <th>PopulationCT</th>\n",
       "      <th>BicycleT</th>\n",
       "      <th>Area(sqKm)</th>\n",
       "      <th>Count</th>\n",
       "      <th>%_TheftDensity</th>\n",
       "    </tr>\n",
       "  </thead>\n",
       "  <tbody>\n",
       "    <tr>\n",
       "      <th>1572</th>\n",
       "      <td>18:00</td>\n",
       "      <td>6290</td>\n",
       "      <td>40</td>\n",
       "      <td>0.34314</td>\n",
       "      <td>2</td>\n",
       "      <td>0.017157</td>\n",
       "    </tr>\n",
       "    <tr>\n",
       "      <th>441</th>\n",
       "      <td>08:30</td>\n",
       "      <td>6556</td>\n",
       "      <td>35</td>\n",
       "      <td>0.61380</td>\n",
       "      <td>1</td>\n",
       "      <td>0.017537</td>\n",
       "    </tr>\n",
       "    <tr>\n",
       "      <th>1504</th>\n",
       "      <td>17:30</td>\n",
       "      <td>6290</td>\n",
       "      <td>40</td>\n",
       "      <td>0.34314</td>\n",
       "      <td>1</td>\n",
       "      <td>0.008578</td>\n",
       "    </tr>\n",
       "    <tr>\n",
       "      <th>1510</th>\n",
       "      <td>17:30</td>\n",
       "      <td>9084</td>\n",
       "      <td>105</td>\n",
       "      <td>0.58534</td>\n",
       "      <td>1</td>\n",
       "      <td>0.005575</td>\n",
       "    </tr>\n",
       "    <tr>\n",
       "      <th>1082</th>\n",
       "      <td>14:00</td>\n",
       "      <td>9084</td>\n",
       "      <td>105</td>\n",
       "      <td>0.58534</td>\n",
       "      <td>6</td>\n",
       "      <td>0.033448</td>\n",
       "    </tr>\n",
       "  </tbody>\n",
       "</table>\n",
       "</div>"
      ],
      "text/plain": [
       "     Occurrence_Time  PopulationCT  BicycleT  Area(sqKm)  Count  %_TheftDensity\n",
       "1572           18:00          6290        40     0.34314      2        0.017157\n",
       "441            08:30          6556        35     0.61380      1        0.017537\n",
       "1504           17:30          6290        40     0.34314      1        0.008578\n",
       "1510           17:30          9084       105     0.58534      1        0.005575\n",
       "1082           14:00          9084       105     0.58534      6        0.033448"
      ]
     },
     "execution_count": 18,
     "metadata": {
      "tags": []
     },
     "output_type": "execute_result"
    }
   ],
   "source": [
    "Stolen_bikes_df_D2014.sample(5)"
   ]
  }
 ],
 "metadata": {
  "colab": {
   "collapsed_sections": [
    "fRXuo8pUYseC",
    "jUXOp1gLZFVf",
    "8yEUWnHIZL6m",
    "24HnX4tO9coE"
   ],
   "name": "Statistics_Census_Diego.ipynb",
   "provenance": []
  },
  "kernelspec": {
   "display_name": "Python 3",
   "language": "python",
   "name": "python3"
  },
  "language_info": {
   "codemirror_mode": {
    "name": "ipython",
    "version": 3
   },
   "file_extension": ".py",
   "mimetype": "text/x-python",
   "name": "python",
   "nbconvert_exporter": "python",
   "pygments_lexer": "ipython3",
   "version": "3.6.9"
  }
 },
 "nbformat": 4,
 "nbformat_minor": 1
}
